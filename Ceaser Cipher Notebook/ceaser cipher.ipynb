{
 "cells": [
  {
   "cell_type": "markdown",
   "metadata": {},
   "source": [
    "# THE CEASER CIPHER"
   ]
  },
  {
   "cell_type": "code",
   "execution_count": null,
   "metadata": {},
   "outputs": [],
   "source": [
    "# Caesar Cipher\n",
    "# http://inventwithpython.com/hacking (BSD Licensed)\n",
    "\n",
    "\n",
    "import pyperclip\n",
    "\n",
    "\n",
    "\n",
    "# the string to be encrypted/decrypted\n",
    "\n",
    "message = 'This is my secret message.'\n",
    "\n",
    "\n",
    "\n",
    "# the encryption/decryption key\n",
    "\n",
    "key = 13\n",
    "\n",
    "\n",
    "\n",
    "# tells the program to encrypt or decrypt\n",
    "\n",
    "mode = 'encrypt' # set to 'encrypt' or 'decrypt'\n",
    "\n",
    "\n",
    "# every possible symbol that can be encrypted\n",
    "\n",
    "LETTERS = 'ABCDEFGHIJKLMNOPQRSTUVWXYZ'\n",
    "\n",
    "\n",
    "\n",
    "# stores the encrypted/decrypted form of the message\n",
    "\n",
    "translated = ''\n",
    "\n",
    "\n",
    "\n",
    "# capitalize the string in message\n",
    "\n",
    "message = message.upper()\n",
    "\n",
    "\n",
    "\n",
    "# run the encryption/decryption code on each symbol in the message string\n",
    "\n",
    "for symbol in message:\n",
    "\n",
    "     if symbol in LETTERS:\n",
    "\n",
    "         # get the encrypted (or decrypted) number for this symbol\n",
    "\n",
    "         num = LETTERS.find(symbol) # get the number of the symbol\n",
    "\n",
    "         if mode == 'encrypt':\n",
    "\n",
    "             num = num + key\n",
    "\n",
    "         elif mode == 'decrypt':\n",
    "\n",
    "             num = num - key\n",
    "\n",
    "\n",
    "\n",
    "         # handle the wrap-around if num is larger than the length of\n",
    "\n",
    "         # LETTERS or less than 0\n",
    "\n",
    "         if num >= len(LETTERS):\n",
    "\n",
    "             num = num - len(LETTERS)\n",
    "\n",
    "         elif num < 0:\n",
    "\n",
    "             num = num + len(LETTERS)\n",
    "\n",
    "\n",
    "\n",
    "         # add encrypted/decrypted number's symbol at the end of translated\n",
    "\n",
    "         translated = translated + LETTERS[num]\n",
    "\n",
    "\n",
    "\n",
    "     else:\n",
    "\n",
    "         # just add the symbol without encrypting/decrypting\n",
    "\n",
    "          translated = translated + symbol\n",
    "\n",
    "\n",
    "\n",
    "# print the encrypted/decrypted string to the screen\n",
    "print(translated)\n",
    "\n",
    "\n",
    "\n",
    " # copy the encrypted/decrypted string to the clipboard\n",
    "\n",
    "pyperclip.copy(translated)"
   ]
  },
  {
   "cell_type": "markdown",
   "metadata": {},
   "source": [
    "## The Math behind the ceasar cipher"
   ]
  },
  {
   "cell_type": "markdown",
   "metadata": {},
   "source": [
    "The basic concept of Caesar cipher.  To encrypt can use a mathematical formula:\n",
    "\n",
    "c = (x + n) mod 26\n",
    "\n",
    "where, c is place value of encrypted letter,\n",
    "\n",
    "x is place value of actual letter,\n",
    "\n",
    "n is the number that shows us how many positions of letters we have to replace.\n",
    "\n",
    "On the other hand, to decrypt each letter we’ll use the formula given below:\n",
    "\n",
    "c = (x – n) mod 26"
   ]
  },
  {
   "cell_type": "markdown",
   "metadata": {},
   "source": [
    "# Optimized "
   ]
  },
  {
   "cell_type": "code",
   "execution_count": 1,
   "metadata": {},
   "outputs": [],
   "source": [
    "#the function to encrypt\n",
    "def encrypt(string, shift):\n",
    " \n",
    "  cipher = ''\n",
    "  for char in string: \n",
    "    if char == ' ':\n",
    "      cipher = cipher + char\n",
    "    elif  char.isupper():\n",
    "        #Given a string representing one Unicode character, return an integer representing the Unicode code point of that character. \n",
    "        #For example, ord('a') returns the integer 97 and ord('€') (Euro sign) returns 8364. This is the inverse of chr().\n",
    "      cipher = cipher + chr((ord(char) + shift - 65) % 26 + 65) \n",
    "    else:\n",
    "      cipher = cipher + chr((ord(char) + shift - 97) % 26 + 97)\n",
    "  \n",
    "  return cipher\n",
    " "
   ]
  },
  {
   "cell_type": "code",
   "execution_count": 2,
   "metadata": {},
   "outputs": [
    {
     "name": "stdout",
     "output_type": "stream",
     "text": [
      "enter string: test\n",
      "enter shift number: 2\n",
      "original string:  test\n",
      "after encryption:  vguv\n"
     ]
    }
   ],
   "source": [
    "text = input(\"enter string: \")\n",
    "s = int(input(\"enter shift number: \"))\n",
    "print(\"original string: \", text)\n",
    "print(\"after encryption: \", encrypt(text, s))"
   ]
  },
  {
   "cell_type": "code",
   "execution_count": 7,
   "metadata": {},
   "outputs": [],
   "source": [
    "#the function to encrypt\n",
    "def decrypt(string, shift):\n",
    " \n",
    "  cipher = ''\n",
    "  for char in string: \n",
    "    if char == ' ':\n",
    "      cipher = cipher + char\n",
    "    elif  char.isupper():\n",
    "        #Given a string representing one Unicode character, return an integer representing the Unicode code point of that character. \n",
    "        #For example, ord('a') returns the integer 97. This is the inverse of chr().\n",
    "      cipher = cipher + chr((ord(char) - shift - 65) % 26 + 65) \n",
    "    else:\n",
    "      cipher = cipher + chr((ord(char) - shift - 97) % 26 + 97)\n",
    "  \n",
    "  return cipher\n",
    " "
   ]
  },
  {
   "cell_type": "code",
   "execution_count": 8,
   "metadata": {},
   "outputs": [
    {
     "name": "stdout",
     "output_type": "stream",
     "text": [
      "enter string: vguv\n",
      "enter shift number: 2\n",
      "original string:  vguv\n",
      "after encryption:  test\n"
     ]
    }
   ],
   "source": [
    "text = input(\"enter string: \")\n",
    "s = int(input(\"enter shift number: \"))\n",
    "print(\"original string: \", text)\n",
    "print(\"after encryption: \", decrypt(text, s))"
   ]
  },
  {
   "cell_type": "markdown",
   "metadata": {},
   "source": [
    "## Extra Compressed"
   ]
  },
  {
   "cell_type": "code",
   "execution_count": 1,
   "metadata": {},
   "outputs": [
    {
     "name": "stdout",
     "output_type": "stream",
     "text": [
      "Please select an option \n",
      " 1. To encrypt \n",
      " 2. To decrypt \n",
      "1\n",
      "enter string: this\n",
      "enter shift number: 2\n",
      "vjku\n"
     ]
    }
   ],
   "source": [
    "import kesari as siza\n",
    "\n",
    "option=int(input(\"Please select an option \\n 1. To encrypt \\n 2. To decrypt \\n\"))\n",
    "text = input(\"enter string: \")\n",
    "s = int(input(\"enter shift number: \"))\n",
    "if option==1:\n",
    "    print(siza.encrypt(text, s))\n",
    "    \n",
    "elif option==2:\n",
    "    print(siza.decrypt(text, s))\n",
    "else:\n",
    "    print(\"Wrong option\")\n",
    "    exit()\n"
   ]
  },
  {
   "cell_type": "code",
   "execution_count": null,
   "metadata": {},
   "outputs": [],
   "source": []
  }
 ],
 "metadata": {
  "kernelspec": {
   "display_name": "Python 3",
   "language": "python",
   "name": "python3"
  },
  "language_info": {
   "codemirror_mode": {
    "name": "ipython",
    "version": 3
   },
   "file_extension": ".py",
   "mimetype": "text/x-python",
   "name": "python",
   "nbconvert_exporter": "python",
   "pygments_lexer": "ipython3",
   "version": "3.6.5"
  }
 },
 "nbformat": 4,
 "nbformat_minor": 2
}
